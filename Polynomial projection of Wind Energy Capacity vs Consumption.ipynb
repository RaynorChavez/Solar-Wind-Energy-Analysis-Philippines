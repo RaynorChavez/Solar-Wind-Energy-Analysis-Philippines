{
 "cells": [
  {
   "cell_type": "markdown",
   "metadata": {},
   "source": [
    "Contributor: Coleen Anne Crisostomo\n",
    "\n",
    "Polynomial projection lines for Philippine future capacity vs Projected future consumption"
   ]
  },
  {
   "cell_type": "markdown",
   "metadata": {},
   "source": [
    "For Capacity in Wind Energy"
   ]
  },
  {
   "cell_type": "code",
   "execution_count": 82,
   "metadata": {},
   "outputs": [
    {
     "data": {
      "text/html": [
       "<div>\n",
       "<style scoped>\n",
       "    .dataframe tbody tr th:only-of-type {\n",
       "        vertical-align: middle;\n",
       "    }\n",
       "\n",
       "    .dataframe tbody tr th {\n",
       "        vertical-align: top;\n",
       "    }\n",
       "\n",
       "    .dataframe thead th {\n",
       "        text-align: right;\n",
       "    }\n",
       "</style>\n",
       "<table border=\"1\" class=\"dataframe\">\n",
       "  <thead>\n",
       "    <tr style=\"text-align: right;\">\n",
       "      <th></th>\n",
       "      <th>Country</th>\n",
       "      <th>Technology</th>\n",
       "      <th>2000</th>\n",
       "      <th>2001</th>\n",
       "      <th>2002</th>\n",
       "      <th>2003</th>\n",
       "      <th>2004</th>\n",
       "      <th>2005</th>\n",
       "      <th>2006</th>\n",
       "      <th>2007</th>\n",
       "      <th>...</th>\n",
       "      <th>2012</th>\n",
       "      <th>2013</th>\n",
       "      <th>2014</th>\n",
       "      <th>2015</th>\n",
       "      <th>2016</th>\n",
       "      <th>2017</th>\n",
       "      <th>2018</th>\n",
       "      <th>2019</th>\n",
       "      <th>2020</th>\n",
       "      <th>2021</th>\n",
       "    </tr>\n",
       "  </thead>\n",
       "  <tbody>\n",
       "    <tr>\n",
       "      <th>166</th>\n",
       "      <td>Philippines</td>\n",
       "      <td>Solar</td>\n",
       "      <td>0</td>\n",
       "      <td>0</td>\n",
       "      <td>0</td>\n",
       "      <td>0</td>\n",
       "      <td>2</td>\n",
       "      <td>2.02</td>\n",
       "      <td>2.02</td>\n",
       "      <td>2.02</td>\n",
       "      <td>...</td>\n",
       "      <td>2.02</td>\n",
       "      <td>3.047</td>\n",
       "      <td>27.737</td>\n",
       "      <td>172.55</td>\n",
       "      <td>784.145</td>\n",
       "      <td>908.376</td>\n",
       "      <td>916.961</td>\n",
       "      <td>982.246</td>\n",
       "      <td>1057.881</td>\n",
       "      <td>1369.734</td>\n",
       "    </tr>\n",
       "    <tr>\n",
       "      <th>167</th>\n",
       "      <td>Philippines</td>\n",
       "      <td>Wind</td>\n",
       "      <td>0</td>\n",
       "      <td>0</td>\n",
       "      <td>0</td>\n",
       "      <td>0</td>\n",
       "      <td>0</td>\n",
       "      <td>33</td>\n",
       "      <td>33</td>\n",
       "      <td>33</td>\n",
       "      <td>...</td>\n",
       "      <td>33</td>\n",
       "      <td>33</td>\n",
       "      <td>336.9</td>\n",
       "      <td>426.9</td>\n",
       "      <td>426.9</td>\n",
       "      <td>426.9</td>\n",
       "      <td>426.9</td>\n",
       "      <td>442.9</td>\n",
       "      <td>442.9</td>\n",
       "      <td>442.9</td>\n",
       "    </tr>\n",
       "  </tbody>\n",
       "</table>\n",
       "<p>2 rows × 24 columns</p>\n",
       "</div>"
      ],
      "text/plain": [
       "         Country Technology 2000 2001 2002 2003 2004  2005  2006  2007  ...  \\\n",
       "166  Philippines      Solar    0    0    0    0    2  2.02  2.02  2.02  ...   \n",
       "167  Philippines       Wind    0    0    0    0    0    33    33    33  ...   \n",
       "\n",
       "     2012   2013    2014    2015     2016     2017     2018     2019  \\\n",
       "166  2.02  3.047  27.737  172.55  784.145  908.376  916.961  982.246   \n",
       "167    33     33   336.9   426.9    426.9    426.9    426.9    442.9   \n",
       "\n",
       "         2020      2021  \n",
       "166  1057.881  1369.734  \n",
       "167     442.9     442.9  \n",
       "\n",
       "[2 rows x 24 columns]"
      ]
     },
     "execution_count": 82,
     "metadata": {},
     "output_type": "execute_result"
    }
   ],
   "source": [
    "#import the libraries\n",
    "import pandas as pd\n",
    "import numpy as np\n",
    "import matplotlib.pyplot as plt\n",
    "\n",
    "#read the data into the dataframe \n",
    "df =  pd.read_csv('Data\\InstalledCapacity\\RECAP_20220519-053554.csv')\n",
    "\n",
    "df[df.Country == 'Philippines']"
   ]
  },
  {
   "cell_type": "code",
   "execution_count": 83,
   "metadata": {},
   "outputs": [
    {
     "data": {
      "text/html": [
       "<div>\n",
       "<style scoped>\n",
       "    .dataframe tbody tr th:only-of-type {\n",
       "        vertical-align: middle;\n",
       "    }\n",
       "\n",
       "    .dataframe tbody tr th {\n",
       "        vertical-align: top;\n",
       "    }\n",
       "\n",
       "    .dataframe thead th {\n",
       "        text-align: right;\n",
       "    }\n",
       "</style>\n",
       "<table border=\"1\" class=\"dataframe\">\n",
       "  <thead>\n",
       "    <tr style=\"text-align: right;\">\n",
       "      <th></th>\n",
       "      <th>Country</th>\n",
       "      <th>Technology</th>\n",
       "      <th>2000</th>\n",
       "      <th>2001</th>\n",
       "      <th>2002</th>\n",
       "      <th>2003</th>\n",
       "      <th>2004</th>\n",
       "      <th>2005</th>\n",
       "      <th>2006</th>\n",
       "      <th>2007</th>\n",
       "      <th>...</th>\n",
       "      <th>2012</th>\n",
       "      <th>2013</th>\n",
       "      <th>2014</th>\n",
       "      <th>2015</th>\n",
       "      <th>2016</th>\n",
       "      <th>2017</th>\n",
       "      <th>2018</th>\n",
       "      <th>2019</th>\n",
       "      <th>2020</th>\n",
       "      <th>2021</th>\n",
       "    </tr>\n",
       "  </thead>\n",
       "  <tbody>\n",
       "    <tr>\n",
       "      <th>167</th>\n",
       "      <td>Philippines</td>\n",
       "      <td>Wind</td>\n",
       "      <td>0</td>\n",
       "      <td>0</td>\n",
       "      <td>0</td>\n",
       "      <td>0</td>\n",
       "      <td>0</td>\n",
       "      <td>33</td>\n",
       "      <td>33</td>\n",
       "      <td>33</td>\n",
       "      <td>...</td>\n",
       "      <td>33</td>\n",
       "      <td>33</td>\n",
       "      <td>336.9</td>\n",
       "      <td>426.9</td>\n",
       "      <td>426.9</td>\n",
       "      <td>426.9</td>\n",
       "      <td>426.9</td>\n",
       "      <td>442.9</td>\n",
       "      <td>442.9</td>\n",
       "      <td>442.9</td>\n",
       "    </tr>\n",
       "  </tbody>\n",
       "</table>\n",
       "<p>1 rows × 24 columns</p>\n",
       "</div>"
      ],
      "text/plain": [
       "         Country Technology 2000 2001 2002 2003 2004 2005 2006 2007  ... 2012  \\\n",
       "167  Philippines       Wind    0    0    0    0    0   33   33   33  ...   33   \n",
       "\n",
       "    2013   2014   2015   2016   2017   2018   2019   2020   2021  \n",
       "167   33  336.9  426.9  426.9  426.9  426.9  442.9  442.9  442.9  \n",
       "\n",
       "[1 rows x 24 columns]"
      ]
     },
     "execution_count": 83,
     "metadata": {},
     "output_type": "execute_result"
    }
   ],
   "source": [
    "# Remove all other countries except Philippines\n",
    "df = df.loc[df['Country'] == 'Philippines']\n",
    "df_wind = df.loc[df['Technology'] == 'Wind']\n",
    "df_wind"
   ]
  },
  {
   "cell_type": "code",
   "execution_count": 84,
   "metadata": {},
   "outputs": [
    {
     "name": "stderr",
     "output_type": "stream",
     "text": [
      "C:\\Users\\Nicole Madison\\AppData\\Local\\Temp\\ipykernel_12892\\934874132.py:2: SettingWithCopyWarning: \n",
      "A value is trying to be set on a copy of a slice from a DataFrame\n",
      "\n",
      "See the caveats in the documentation: https://pandas.pydata.org/pandas-docs/stable/user_guide/indexing.html#returning-a-view-versus-a-copy\n",
      "  df_wind.drop(['Country', 'Technology'], axis=1, inplace=True)\n"
     ]
    },
    {
     "data": {
      "text/html": [
       "<div>\n",
       "<style scoped>\n",
       "    .dataframe tbody tr th:only-of-type {\n",
       "        vertical-align: middle;\n",
       "    }\n",
       "\n",
       "    .dataframe tbody tr th {\n",
       "        vertical-align: top;\n",
       "    }\n",
       "\n",
       "    .dataframe thead th {\n",
       "        text-align: right;\n",
       "    }\n",
       "</style>\n",
       "<table border=\"1\" class=\"dataframe\">\n",
       "  <thead>\n",
       "    <tr style=\"text-align: right;\">\n",
       "      <th></th>\n",
       "      <th>2000</th>\n",
       "      <th>2001</th>\n",
       "      <th>2002</th>\n",
       "      <th>2003</th>\n",
       "      <th>2004</th>\n",
       "      <th>2005</th>\n",
       "      <th>2006</th>\n",
       "      <th>2007</th>\n",
       "      <th>2008</th>\n",
       "      <th>2009</th>\n",
       "      <th>...</th>\n",
       "      <th>2012</th>\n",
       "      <th>2013</th>\n",
       "      <th>2014</th>\n",
       "      <th>2015</th>\n",
       "      <th>2016</th>\n",
       "      <th>2017</th>\n",
       "      <th>2018</th>\n",
       "      <th>2019</th>\n",
       "      <th>2020</th>\n",
       "      <th>2021</th>\n",
       "    </tr>\n",
       "  </thead>\n",
       "  <tbody>\n",
       "    <tr>\n",
       "      <th>167</th>\n",
       "      <td>0</td>\n",
       "      <td>0</td>\n",
       "      <td>0</td>\n",
       "      <td>0</td>\n",
       "      <td>0</td>\n",
       "      <td>33</td>\n",
       "      <td>33</td>\n",
       "      <td>33</td>\n",
       "      <td>33</td>\n",
       "      <td>33</td>\n",
       "      <td>...</td>\n",
       "      <td>33</td>\n",
       "      <td>33</td>\n",
       "      <td>336.9</td>\n",
       "      <td>426.9</td>\n",
       "      <td>426.9</td>\n",
       "      <td>426.9</td>\n",
       "      <td>426.9</td>\n",
       "      <td>442.9</td>\n",
       "      <td>442.9</td>\n",
       "      <td>442.9</td>\n",
       "    </tr>\n",
       "  </tbody>\n",
       "</table>\n",
       "<p>1 rows × 22 columns</p>\n",
       "</div>"
      ],
      "text/plain": [
       "    2000 2001 2002 2003 2004 2005 2006 2007 2008 2009  ... 2012 2013   2014  \\\n",
       "167    0    0    0    0    0   33   33   33   33   33  ...   33   33  336.9   \n",
       "\n",
       "      2015   2016   2017   2018   2019   2020   2021  \n",
       "167  426.9  426.9  426.9  426.9  442.9  442.9  442.9  \n",
       "\n",
       "[1 rows x 22 columns]"
      ]
     },
     "execution_count": 84,
     "metadata": {},
     "output_type": "execute_result"
    }
   ],
   "source": [
    "# Remove Country and Technology columns in place\n",
    "df_wind.drop(['Country', 'Technology'], axis=1, inplace=True)\n",
    "df_wind\n"
   ]
  },
  {
   "cell_type": "code",
   "execution_count": 85,
   "metadata": {},
   "outputs": [
    {
     "data": {
      "text/plain": [
       "array([  0. ,   0. ,   0. ,   0. ,   0. ,  33. ,  33. ,  33. ,  33. ,\n",
       "        33. ,  33. ,  33. ,  33. ,  33. , 336.9, 426.9, 426.9, 426.9,\n",
       "       426.9, 442.9, 442.9, 442.9])"
      ]
     },
     "execution_count": 85,
     "metadata": {},
     "output_type": "execute_result"
    }
   ],
   "source": [
    "# Take the capacity values\n",
    "y = df_wind.iloc[0].values\n",
    "y = y.astype(float)\n",
    "y"
   ]
  },
  {
   "cell_type": "code",
   "execution_count": 86,
   "metadata": {},
   "outputs": [
    {
     "data": {
      "text/plain": [
       "array([[2000],\n",
       "       [2001],\n",
       "       [2002],\n",
       "       [2003],\n",
       "       [2004],\n",
       "       [2005],\n",
       "       [2006],\n",
       "       [2007],\n",
       "       [2008],\n",
       "       [2009],\n",
       "       [2010],\n",
       "       [2011],\n",
       "       [2012],\n",
       "       [2013],\n",
       "       [2014],\n",
       "       [2015],\n",
       "       [2016],\n",
       "       [2017],\n",
       "       [2018],\n",
       "       [2019],\n",
       "       [2020],\n",
       "       [2021]])"
      ]
     },
     "execution_count": 86,
     "metadata": {},
     "output_type": "execute_result"
    }
   ],
   "source": [
    "# Take the years\n",
    "X = df_wind.columns.values\n",
    "X = X.astype(int)\n",
    "X = X.reshape(-1, 1)\n",
    "X"
   ]
  },
  {
   "cell_type": "code",
   "execution_count": 87,
   "metadata": {},
   "outputs": [
    {
     "data": {
      "text/plain": [
       "(22, 1)"
      ]
     },
     "execution_count": 87,
     "metadata": {},
     "output_type": "execute_result"
    }
   ],
   "source": [
    "X.shape"
   ]
  },
  {
   "cell_type": "code",
   "execution_count": 88,
   "metadata": {},
   "outputs": [
    {
     "data": {
      "text/plain": [
       "(22,)"
      ]
     },
     "execution_count": 88,
     "metadata": {},
     "output_type": "execute_result"
    }
   ],
   "source": [
    "y.shape"
   ]
  },
  {
   "cell_type": "code",
   "execution_count": 89,
   "metadata": {},
   "outputs": [
    {
     "data": {
      "text/plain": [
       "LinearRegression()"
      ]
     },
     "execution_count": 89,
     "metadata": {},
     "output_type": "execute_result"
    }
   ],
   "source": [
    "from sklearn.linear_model import LinearRegression\n",
    "lin_reg = LinearRegression()\n",
    "lin_reg.fit(X,y)"
   ]
  },
  {
   "cell_type": "code",
   "execution_count": 90,
   "metadata": {},
   "outputs": [
    {
     "name": "stdout",
     "output_type": "stream",
     "text": [
      "(41, 1)\n",
      "(41,)\n"
     ]
    }
   ],
   "source": [
    "# Making predictions for years 2022 till 2040\n",
    "linear_predict = np.array([])\n",
    "years = np.array([[i] for i in range(2022, 2041, 1)])\n",
    "X_linear = np.concatenate((X,years))\n",
    "y_linear = np.copy(y)\n",
    "for i in range(2022, 2041, 1):\n",
    "   y_linear = np.concatenate((y_linear,lin_reg.predict([[i]])))\n",
    "\n",
    "print(X_linear.shape)\n",
    "print(y_linear.shape)"
   ]
  },
  {
   "cell_type": "code",
   "execution_count": 91,
   "metadata": {},
   "outputs": [
    {
     "data": {
      "image/png": "[encoded data removed]",
      "text/plain": [
       "<Figure size 432x288 with 1 Axes>"
      ]
     },
     "metadata": {
      "needs_background": "light"
     },
     "output_type": "display_data"
    }
   ],
   "source": [
    "plt.scatter(X_linear,y_linear, color='red')\n",
    "plt.plot(X_linear, lin_reg.predict(X_linear),color='blue')\n",
    "plt.title(\"wind Capacity (Linear)\")\n",
    "plt.xlabel('Year')\n",
    "plt.ylabel('Capacity (MW)')\n",
    "plt.show()"
   ]
  },
  {
   "cell_type": "code",
   "execution_count": 92,
   "metadata": {},
   "outputs": [
    {
     "data": {
      "text/plain": [
       "LinearRegression()"
      ]
     },
     "execution_count": 92,
     "metadata": {},
     "output_type": "execute_result"
    }
   ],
   "source": [
    "from sklearn.preprocessing import PolynomialFeatures\n",
    "poly_reg = PolynomialFeatures(degree=2)\n",
    "X_poly = poly_reg.fit_transform(X)\n",
    "lin_reg2 = LinearRegression()\n",
    "lin_reg2.fit(X_poly,y)"
   ]
  },
  {
   "cell_type": "code",
   "execution_count": 93,
   "metadata": {},
   "outputs": [
    {
     "name": "stdout",
     "output_type": "stream",
     "text": [
      "(41, 1)\n",
      "(41,)\n"
     ]
    }
   ],
   "source": [
    "# Making predictions for years 2022 till 2040\n",
    "poly_predict = np.array([])\n",
    "years = np.array([[i] for i in range(2022, 2041, 1)])\n",
    "X_poly = np.concatenate((X,years))\n",
    "y_poly = np.copy(y)\n",
    "for i in range(2022, 2041, 1):\n",
    "   y_poly = np.concatenate((y_poly,lin_reg2.predict(poly_reg.fit_transform([[i]]))))\n",
    "\n",
    "print(X_poly.shape)\n",
    "print(y_poly.shape)"
   ]
  },
  {
   "cell_type": "code",
   "execution_count": 94,
   "metadata": {},
   "outputs": [
    {
     "data": {
      "image/png": "[encoded data removed]",
      "text/plain": [
       "<Figure size 432x288 with 1 Axes>"
      ]
     },
     "metadata": {
      "needs_background": "light"
     },
     "output_type": "display_data"
    }
   ],
   "source": [
    "X_grid = np.arange(min(X_poly),max(X_poly),0.1)\n",
    "X_grid = X_grid.reshape(len(X_grid),1) \n",
    "plt.scatter(X_poly,y_poly, color='red') \n",
    "\n",
    "plt.plot(X_grid, lin_reg2.predict(poly_reg.fit_transform(X_grid)),color='blue') \n",
    "\n",
    "plt.title(\"Wind Capacity (Polynomial)\")\n",
    "plt.xlabel('Year')\n",
    "plt.ylabel('Capacity (MW)')\n",
    "plt.show()"
   ]
  },
  {
   "cell_type": "markdown",
   "metadata": {},
   "source": [
    "For Consumption of wind Energy"
   ]
  },
  {
   "cell_type": "code",
   "execution_count": 95,
   "metadata": {},
   "outputs": [
    {
     "data": {
      "text/html": [
       "<div>\n",
       "<style scoped>\n",
       "    .dataframe tbody tr th:only-of-type {\n",
       "        vertical-align: middle;\n",
       "    }\n",
       "\n",
       "    .dataframe tbody tr th {\n",
       "        vertical-align: top;\n",
       "    }\n",
       "\n",
       "    .dataframe thead th {\n",
       "        text-align: right;\n",
       "    }\n",
       "</style>\n",
       "<table border=\"1\" class=\"dataframe\">\n",
       "  <thead>\n",
       "    <tr style=\"text-align: right;\">\n",
       "      <th></th>\n",
       "      <th>Renewables: Consumption - Wind*</th>\n",
       "      <th>Unnamed: 1</th>\n",
       "      <th>Unnamed: 2</th>\n",
       "      <th>Unnamed: 3</th>\n",
       "      <th>Unnamed: 4</th>\n",
       "      <th>Unnamed: 5</th>\n",
       "      <th>Unnamed: 6</th>\n",
       "      <th>Unnamed: 7</th>\n",
       "      <th>Unnamed: 8</th>\n",
       "      <th>Unnamed: 9</th>\n",
       "      <th>...</th>\n",
       "      <th>Unnamed: 52</th>\n",
       "      <th>Unnamed: 53</th>\n",
       "      <th>Unnamed: 54</th>\n",
       "      <th>Unnamed: 55</th>\n",
       "      <th>Unnamed: 56</th>\n",
       "      <th>Unnamed: 57</th>\n",
       "      <th>Unnamed: 58</th>\n",
       "      <th>Unnamed: 59</th>\n",
       "      <th>Unnamed: 60</th>\n",
       "      <th>Contents.1</th>\n",
       "    </tr>\n",
       "  </thead>\n",
       "  <tbody>\n",
       "    <tr>\n",
       "      <th>0</th>\n",
       "      <td>NaN</td>\n",
       "      <td>NaN</td>\n",
       "      <td>NaN</td>\n",
       "      <td>NaN</td>\n",
       "      <td>NaN</td>\n",
       "      <td>NaN</td>\n",
       "      <td>NaN</td>\n",
       "      <td>NaN</td>\n",
       "      <td>NaN</td>\n",
       "      <td>NaN</td>\n",
       "      <td>...</td>\n",
       "      <td>NaN</td>\n",
       "      <td>NaN</td>\n",
       "      <td>NaN</td>\n",
       "      <td>NaN</td>\n",
       "      <td>NaN</td>\n",
       "      <td>Growth rate per annum</td>\n",
       "      <td>NaN</td>\n",
       "      <td>Share</td>\n",
       "      <td>NaN</td>\n",
       "      <td>NaN</td>\n",
       "    </tr>\n",
       "    <tr>\n",
       "      <th>1</th>\n",
       "      <td>Exajoules (input-equivalent)</td>\n",
       "      <td>1965.0</td>\n",
       "      <td>1966.0</td>\n",
       "      <td>1967.0</td>\n",
       "      <td>1968.0</td>\n",
       "      <td>1969.0</td>\n",
       "      <td>1970.0</td>\n",
       "      <td>1971.0</td>\n",
       "      <td>1972.0</td>\n",
       "      <td>1973.0</td>\n",
       "      <td>...</td>\n",
       "      <td>2016.000000</td>\n",
       "      <td>2017.000000</td>\n",
       "      <td>2018.000000</td>\n",
       "      <td>2019.000000</td>\n",
       "      <td>2020.000000</td>\n",
       "      <td>2020</td>\n",
       "      <td>2009-19</td>\n",
       "      <td>2020</td>\n",
       "      <td>NaN</td>\n",
       "      <td>NaN</td>\n",
       "    </tr>\n",
       "    <tr>\n",
       "      <th>2</th>\n",
       "      <td>NaN</td>\n",
       "      <td>NaN</td>\n",
       "      <td>NaN</td>\n",
       "      <td>NaN</td>\n",
       "      <td>NaN</td>\n",
       "      <td>NaN</td>\n",
       "      <td>NaN</td>\n",
       "      <td>NaN</td>\n",
       "      <td>NaN</td>\n",
       "      <td>NaN</td>\n",
       "      <td>...</td>\n",
       "      <td>NaN</td>\n",
       "      <td>NaN</td>\n",
       "      <td>NaN</td>\n",
       "      <td>NaN</td>\n",
       "      <td>NaN</td>\n",
       "      <td>NaN</td>\n",
       "      <td>NaN</td>\n",
       "      <td>NaN</td>\n",
       "      <td>NaN</td>\n",
       "      <td>NaN</td>\n",
       "    </tr>\n",
       "    <tr>\n",
       "      <th>3</th>\n",
       "      <td>Canada</td>\n",
       "      <td>0.0</td>\n",
       "      <td>0.0</td>\n",
       "      <td>0.0</td>\n",
       "      <td>0.0</td>\n",
       "      <td>0.0</td>\n",
       "      <td>0.0</td>\n",
       "      <td>0.0</td>\n",
       "      <td>0.0</td>\n",
       "      <td>0.0</td>\n",
       "      <td>...</td>\n",
       "      <td>0.280045</td>\n",
       "      <td>0.283623</td>\n",
       "      <td>0.296556</td>\n",
       "      <td>0.291141</td>\n",
       "      <td>0.320649</td>\n",
       "      <td>0.098345</td>\n",
       "      <td>0.16591</td>\n",
       "      <td>0.022689</td>\n",
       "      <td>NaN</td>\n",
       "      <td>NaN</td>\n",
       "    </tr>\n",
       "    <tr>\n",
       "      <th>4</th>\n",
       "      <td>Mexico</td>\n",
       "      <td>0.0</td>\n",
       "      <td>0.0</td>\n",
       "      <td>0.0</td>\n",
       "      <td>0.0</td>\n",
       "      <td>0.0</td>\n",
       "      <td>0.0</td>\n",
       "      <td>0.0</td>\n",
       "      <td>0.0</td>\n",
       "      <td>0.0</td>\n",
       "      <td>...</td>\n",
       "      <td>0.093956</td>\n",
       "      <td>0.095578</td>\n",
       "      <td>0.117109</td>\n",
       "      <td>0.149108</td>\n",
       "      <td>0.175029</td>\n",
       "      <td>0.170633</td>\n",
       "      <td>0.387657</td>\n",
       "      <td>0.012385</td>\n",
       "      <td>NaN</td>\n",
       "      <td>NaN</td>\n",
       "    </tr>\n",
       "    <tr>\n",
       "      <th>...</th>\n",
       "      <td>...</td>\n",
       "      <td>...</td>\n",
       "      <td>...</td>\n",
       "      <td>...</td>\n",
       "      <td>...</td>\n",
       "      <td>...</td>\n",
       "      <td>...</td>\n",
       "      <td>...</td>\n",
       "      <td>...</td>\n",
       "      <td>...</td>\n",
       "      <td>...</td>\n",
       "      <td>...</td>\n",
       "      <td>...</td>\n",
       "      <td>...</td>\n",
       "      <td>...</td>\n",
       "      <td>...</td>\n",
       "      <td>...</td>\n",
       "      <td>...</td>\n",
       "      <td>...</td>\n",
       "      <td>...</td>\n",
       "      <td>...</td>\n",
       "    </tr>\n",
       "    <tr>\n",
       "      <th>119</th>\n",
       "      <td>n/a not available.</td>\n",
       "      <td>NaN</td>\n",
       "      <td>NaN</td>\n",
       "      <td>NaN</td>\n",
       "      <td>NaN</td>\n",
       "      <td>NaN</td>\n",
       "      <td>NaN</td>\n",
       "      <td>NaN</td>\n",
       "      <td>NaN</td>\n",
       "      <td>NaN</td>\n",
       "      <td>...</td>\n",
       "      <td>NaN</td>\n",
       "      <td>NaN</td>\n",
       "      <td>NaN</td>\n",
       "      <td>NaN</td>\n",
       "      <td>NaN</td>\n",
       "      <td>NaN</td>\n",
       "      <td>NaN</td>\n",
       "      <td>NaN</td>\n",
       "      <td>NaN</td>\n",
       "      <td>NaN</td>\n",
       "    </tr>\n",
       "    <tr>\n",
       "      <th>120</th>\n",
       "      <td>USSR includes CIS, Georgia, Ukraine and the Ba...</td>\n",
       "      <td>NaN</td>\n",
       "      <td>NaN</td>\n",
       "      <td>NaN</td>\n",
       "      <td>NaN</td>\n",
       "      <td>NaN</td>\n",
       "      <td>NaN</td>\n",
       "      <td>NaN</td>\n",
       "      <td>NaN</td>\n",
       "      <td>NaN</td>\n",
       "      <td>...</td>\n",
       "      <td>NaN</td>\n",
       "      <td>NaN</td>\n",
       "      <td>NaN</td>\n",
       "      <td>NaN</td>\n",
       "      <td>NaN</td>\n",
       "      <td>NaN</td>\n",
       "      <td>NaN</td>\n",
       "      <td>NaN</td>\n",
       "      <td>NaN</td>\n",
       "      <td>NaN</td>\n",
       "    </tr>\n",
       "    <tr>\n",
       "      <th>121</th>\n",
       "      <td>#  Excludes Estonia, Latvia and Lithuania pri...</td>\n",
       "      <td>NaN</td>\n",
       "      <td>NaN</td>\n",
       "      <td>NaN</td>\n",
       "      <td>NaN</td>\n",
       "      <td>NaN</td>\n",
       "      <td>NaN</td>\n",
       "      <td>NaN</td>\n",
       "      <td>NaN</td>\n",
       "      <td>NaN</td>\n",
       "      <td>...</td>\n",
       "      <td>NaN</td>\n",
       "      <td>NaN</td>\n",
       "      <td>NaN</td>\n",
       "      <td>NaN</td>\n",
       "      <td>NaN</td>\n",
       "      <td>NaN</td>\n",
       "      <td>NaN</td>\n",
       "      <td>NaN</td>\n",
       "      <td>NaN</td>\n",
       "      <td>NaN</td>\n",
       "    </tr>\n",
       "    <tr>\n",
       "      <th>122</th>\n",
       "      <td>Notes: Annual changes and share of total are c...</td>\n",
       "      <td>NaN</td>\n",
       "      <td>NaN</td>\n",
       "      <td>NaN</td>\n",
       "      <td>NaN</td>\n",
       "      <td>NaN</td>\n",
       "      <td>NaN</td>\n",
       "      <td>NaN</td>\n",
       "      <td>NaN</td>\n",
       "      <td>NaN</td>\n",
       "      <td>...</td>\n",
       "      <td>NaN</td>\n",
       "      <td>NaN</td>\n",
       "      <td>NaN</td>\n",
       "      <td>NaN</td>\n",
       "      <td>NaN</td>\n",
       "      <td>NaN</td>\n",
       "      <td>NaN</td>\n",
       "      <td>NaN</td>\n",
       "      <td>NaN</td>\n",
       "      <td>NaN</td>\n",
       "    </tr>\n",
       "    <tr>\n",
       "      <th>123</th>\n",
       "      <td>Growth rates are adjusted for leap years.</td>\n",
       "      <td>NaN</td>\n",
       "      <td>NaN</td>\n",
       "      <td>NaN</td>\n",
       "      <td>NaN</td>\n",
       "      <td>NaN</td>\n",
       "      <td>NaN</td>\n",
       "      <td>NaN</td>\n",
       "      <td>NaN</td>\n",
       "      <td>NaN</td>\n",
       "      <td>...</td>\n",
       "      <td>NaN</td>\n",
       "      <td>NaN</td>\n",
       "      <td>NaN</td>\n",
       "      <td>NaN</td>\n",
       "      <td>NaN</td>\n",
       "      <td>NaN</td>\n",
       "      <td>NaN</td>\n",
       "      <td>NaN</td>\n",
       "      <td>NaN</td>\n",
       "      <td>NaN</td>\n",
       "    </tr>\n",
       "  </tbody>\n",
       "</table>\n",
       "<p>124 rows × 62 columns</p>\n",
       "</div>"
      ],
      "text/plain": [
       "                       Renewables: Consumption - Wind*  Unnamed: 1  \\\n",
       "0                                                  NaN         NaN   \n",
       "1                         Exajoules (input-equivalent)      1965.0   \n",
       "2                                                  NaN         NaN   \n",
       "3                                               Canada         0.0   \n",
       "4                                               Mexico         0.0   \n",
       "..                                                 ...         ...   \n",
       "119                                 n/a not available.         NaN   \n",
       "120  USSR includes CIS, Georgia, Ukraine and the Ba...         NaN   \n",
       "121   #  Excludes Estonia, Latvia and Lithuania pri...         NaN   \n",
       "122  Notes: Annual changes and share of total are c...         NaN   \n",
       "123          Growth rates are adjusted for leap years.         NaN   \n",
       "\n",
       "     Unnamed: 2  Unnamed: 3  Unnamed: 4  Unnamed: 5  Unnamed: 6  Unnamed: 7  \\\n",
       "0           NaN         NaN         NaN         NaN         NaN         NaN   \n",
       "1        1966.0      1967.0      1968.0      1969.0      1970.0      1971.0   \n",
       "2           NaN         NaN         NaN         NaN         NaN         NaN   \n",
       "3           0.0         0.0         0.0         0.0         0.0         0.0   \n",
       "4           0.0         0.0         0.0         0.0         0.0         0.0   \n",
       "..          ...         ...         ...         ...         ...         ...   \n",
       "119         NaN         NaN         NaN         NaN         NaN         NaN   \n",
       "120         NaN         NaN         NaN         NaN         NaN         NaN   \n",
       "121         NaN         NaN         NaN         NaN         NaN         NaN   \n",
       "122         NaN         NaN         NaN         NaN         NaN         NaN   \n",
       "123         NaN         NaN         NaN         NaN         NaN         NaN   \n",
       "\n",
       "     Unnamed: 8  Unnamed: 9  ...  Unnamed: 52  Unnamed: 53  Unnamed: 54  \\\n",
       "0           NaN         NaN  ...          NaN          NaN          NaN   \n",
       "1        1972.0      1973.0  ...  2016.000000  2017.000000  2018.000000   \n",
       "2           NaN         NaN  ...          NaN          NaN          NaN   \n",
       "3           0.0         0.0  ...     0.280045     0.283623     0.296556   \n",
       "4           0.0         0.0  ...     0.093956     0.095578     0.117109   \n",
       "..          ...         ...  ...          ...          ...          ...   \n",
       "119         NaN         NaN  ...          NaN          NaN          NaN   \n",
       "120         NaN         NaN  ...          NaN          NaN          NaN   \n",
       "121         NaN         NaN  ...          NaN          NaN          NaN   \n",
       "122         NaN         NaN  ...          NaN          NaN          NaN   \n",
       "123         NaN         NaN  ...          NaN          NaN          NaN   \n",
       "\n",
       "     Unnamed: 55  Unnamed: 56            Unnamed: 57  Unnamed: 58  \\\n",
       "0            NaN          NaN  Growth rate per annum          NaN   \n",
       "1    2019.000000  2020.000000                   2020      2009-19   \n",
       "2            NaN          NaN                    NaN          NaN   \n",
       "3       0.291141     0.320649               0.098345      0.16591   \n",
       "4       0.149108     0.175029               0.170633     0.387657   \n",
       "..           ...          ...                    ...          ...   \n",
       "119          NaN          NaN                    NaN          NaN   \n",
       "120          NaN          NaN                    NaN          NaN   \n",
       "121          NaN          NaN                    NaN          NaN   \n",
       "122          NaN          NaN                    NaN          NaN   \n",
       "123          NaN          NaN                    NaN          NaN   \n",
       "\n",
       "     Unnamed: 59  Unnamed: 60  Contents.1  \n",
       "0          Share          NaN         NaN  \n",
       "1           2020          NaN         NaN  \n",
       "2            NaN          NaN         NaN  \n",
       "3       0.022689          NaN         NaN  \n",
       "4       0.012385          NaN         NaN  \n",
       "..           ...          ...         ...  \n",
       "119          NaN          NaN         NaN  \n",
       "120          NaN          NaN         NaN  \n",
       "121          NaN          NaN         NaN  \n",
       "122          NaN          NaN         NaN  \n",
       "123          NaN          NaN         NaN  \n",
       "\n",
       "[124 rows x 62 columns]"
      ]
     },
     "execution_count": 95,
     "metadata": {},
     "output_type": "execute_result"
    }
   ],
   "source": [
    "#read the data into the dataframe \n",
    "df1 = pd.read_excel (r'Data\\ConsumptionPercentage\\bp-stats-review-2021-all-data.xlsx', sheet_name='Wind Consumption - EJ')\n",
    "df1"
   ]
  },
  {
   "cell_type": "code",
   "execution_count": 96,
   "metadata": {},
   "outputs": [
    {
     "data": {
      "text/plain": [
       "Renewables: Consumption - Wind*    Philippines\n",
       "Unnamed: 1                                 0.0\n",
       "Unnamed: 2                                 0.0\n",
       "Unnamed: 3                                 0.0\n",
       "Unnamed: 4                                 0.0\n",
       "                                      ...     \n",
       "Unnamed: 57                          -0.020904\n",
       "Unnamed: 58                           0.313278\n",
       "Unnamed: 59                           0.000645\n",
       "Unnamed: 60                                NaN\n",
       "Contents.1                                 NaN\n",
       "Name: 99, Length: 62, dtype: object"
      ]
     },
     "execution_count": 96,
     "metadata": {},
     "output_type": "execute_result"
    }
   ],
   "source": [
    "# Take the data for Philippines\n",
    "df1_wind = df1.iloc[99]\n",
    "df1_wind"
   ]
  },
  {
   "cell_type": "code",
   "execution_count": 97,
   "metadata": {},
   "outputs": [
    {
     "data": {
      "text/plain": [
       "Renewables: Consumption - Wind*    Philippines\n",
       "Unnamed: 1                                 0.0\n",
       "Unnamed: 2                                 0.0\n",
       "Unnamed: 3                                 0.0\n",
       "Unnamed: 4                                 0.0\n",
       "Unnamed: 5                                 0.0\n",
       "Unnamed: 6                                 0.0\n",
       "Unnamed: 7                                 0.0\n",
       "Unnamed: 8                                 0.0\n",
       "Unnamed: 9                                 0.0\n",
       "Unnamed: 10                                0.0\n",
       "Contents                                   0.0\n",
       "Unnamed: 12                                0.0\n",
       "Unnamed: 13                                0.0\n",
       "Unnamed: 14                                0.0\n",
       "Unnamed: 15                                0.0\n",
       "Unnamed: 16                                0.0\n",
       "Unnamed: 17                                0.0\n",
       "Unnamed: 18                                0.0\n",
       "Unnamed: 19                                0.0\n",
       "Unnamed: 20                                0.0\n",
       "Unnamed: 21                                0.0\n",
       "Unnamed: 22                                0.0\n",
       "Unnamed: 23                                0.0\n",
       "Unnamed: 24                                0.0\n",
       "Unnamed: 25                                0.0\n",
       "Unnamed: 26                                0.0\n",
       "Unnamed: 27                                0.0\n",
       "Unnamed: 28                                0.0\n",
       "Unnamed: 29                                0.0\n",
       "Unnamed: 30                                0.0\n",
       "Unnamed: 31                                0.0\n",
       "Unnamed: 32                                0.0\n",
       "Unnamed: 33                                0.0\n",
       "Unnamed: 34                                0.0\n",
       "Unnamed: 35                                0.0\n",
       "Unnamed: 36                                0.0\n",
       "Unnamed: 37                                0.0\n",
       "Unnamed: 38                                0.0\n",
       "Unnamed: 39                                0.0\n",
       "Unnamed: 40                                0.0\n",
       "Unnamed: 41                           0.000169\n",
       "Unnamed: 42                           0.000512\n",
       "Unnamed: 43                           0.000553\n",
       "Unnamed: 44                           0.000583\n",
       "Unnamed: 45                           0.000608\n",
       "Unnamed: 46                           0.000579\n",
       "Unnamed: 47                           0.000823\n",
       "Unnamed: 48                           0.000699\n",
       "Unnamed: 49                           0.000605\n",
       "Unnamed: 50                           0.001393\n",
       "Unnamed: 51                           0.006816\n",
       "Unnamed: 52                           0.008829\n",
       "Unnamed: 53                           0.009842\n",
       "Unnamed: 54                           0.010316\n",
       "Unnamed: 55                           0.009286\n",
       "Unnamed: 56                           0.009117\n",
       "Name: 99, dtype: object"
      ]
     },
     "execution_count": 97,
     "metadata": {},
     "output_type": "execute_result"
    }
   ],
   "source": [
    "# Check the consumption values for country Philippines\n",
    "df1_wind = df1.iloc[99,0:57]\n",
    "df1_wind"
   ]
  },
  {
   "cell_type": "code",
   "execution_count": 98,
   "metadata": {},
   "outputs": [
    {
     "data": {
      "text/plain": [
       "array([[0.      ],\n",
       "       [0.      ],\n",
       "       [0.      ],\n",
       "       [0.      ],\n",
       "       [0.      ],\n",
       "       [0.000169],\n",
       "       [0.000512],\n",
       "       [0.000553],\n",
       "       [0.000583],\n",
       "       [0.000608],\n",
       "       [0.000579],\n",
       "       [0.000823],\n",
       "       [0.000699],\n",
       "       [0.000605],\n",
       "       [0.001393],\n",
       "       [0.006816],\n",
       "       [0.008829],\n",
       "       [0.009842],\n",
       "       [0.010316],\n",
       "       [0.009286],\n",
       "       [0.009117]])"
      ]
     },
     "execution_count": 98,
     "metadata": {},
     "output_type": "execute_result"
    }
   ],
   "source": [
    "# Take the consumption values from excel sheet into string list\n",
    "df1_wind_row = df1.iloc[99,36:57].to_string(header=False, index=False)\n",
    "df1_wind_row = df1_wind_row.split('\\n')\n",
    "\n",
    "# Convert the list into dataframe\n",
    "df1_wind_row = [float(_.strip()) for _ in df1_wind_row]\n",
    "y1 = pd.DataFrame(df1_wind_row, columns=['Consumption'])\n",
    "y1 = y1.values\n",
    "y1"
   ]
  },
  {
   "cell_type": "code",
   "execution_count": 99,
   "metadata": {},
   "outputs": [
    {
     "data": {
      "text/plain": [
       "(21, 1)"
      ]
     },
     "execution_count": 99,
     "metadata": {},
     "output_type": "execute_result"
    }
   ],
   "source": [
    "y1.shape"
   ]
  },
  {
   "cell_type": "code",
   "execution_count": 100,
   "metadata": {},
   "outputs": [
    {
     "data": {
      "text/plain": [
       "Unnamed: 36    2000.0\n",
       "Unnamed: 37    2001.0\n",
       "Unnamed: 38    2002.0\n",
       "Unnamed: 39    2003.0\n",
       "Unnamed: 40    2004.0\n",
       "Unnamed: 41    2005.0\n",
       "Unnamed: 42    2006.0\n",
       "Unnamed: 43    2007.0\n",
       "Unnamed: 44    2008.0\n",
       "Unnamed: 45    2009.0\n",
       "Unnamed: 46    2010.0\n",
       "Unnamed: 47    2011.0\n",
       "Unnamed: 48    2012.0\n",
       "Unnamed: 49    2013.0\n",
       "Unnamed: 50    2014.0\n",
       "Unnamed: 51    2015.0\n",
       "Unnamed: 52    2016.0\n",
       "Unnamed: 53    2017.0\n",
       "Unnamed: 54    2018.0\n",
       "Unnamed: 55    2019.0\n",
       "Unnamed: 56    2020.0\n",
       "Name: 1, dtype: object"
      ]
     },
     "execution_count": 100,
     "metadata": {},
     "output_type": "execute_result"
    }
   ],
   "source": [
    "# Check the years\n",
    "df1_wind_columns = df1.iloc[1,36:57]\n",
    "df1_wind_columns"
   ]
  },
  {
   "cell_type": "code",
   "execution_count": 101,
   "metadata": {},
   "outputs": [
    {
     "data": {
      "text/plain": [
       "array([[2000],\n",
       "       [2001],\n",
       "       [2002],\n",
       "       [2003],\n",
       "       [2004],\n",
       "       [2005],\n",
       "       [2006],\n",
       "       [2007],\n",
       "       [2008],\n",
       "       [2009],\n",
       "       [2010],\n",
       "       [2011],\n",
       "       [2012],\n",
       "       [2013],\n",
       "       [2014],\n",
       "       [2015],\n",
       "       [2016],\n",
       "       [2017],\n",
       "       [2018],\n",
       "       [2019],\n",
       "       [2020]], dtype=int64)"
      ]
     },
     "execution_count": 101,
     "metadata": {},
     "output_type": "execute_result"
    }
   ],
   "source": [
    "# Take the year values from excel sheet into string list\n",
    "df1_wind_columns = df1.iloc[1,36:58].to_string(header=False, index=False)\n",
    "df1_wind_columns = df1_wind_columns.split('.0\\n')\n",
    "\n",
    "# Convert the list into dataframe\n",
    "df1_wind_columns = [int(_.strip()) for _ in df1_wind_columns]\n",
    "X1 = pd.DataFrame(df1_wind_columns, columns=['Years'])\n",
    "X1 = X1['Years'].unique()\n",
    "X1 = X1.reshape(-1,1)\n",
    "X1"
   ]
  },
  {
   "cell_type": "code",
   "execution_count": 102,
   "metadata": {},
   "outputs": [
    {
     "data": {
      "text/plain": [
       "(21, 1)"
      ]
     },
     "execution_count": 102,
     "metadata": {},
     "output_type": "execute_result"
    }
   ],
   "source": [
    "X1.shape"
   ]
  },
  {
   "cell_type": "code",
   "execution_count": 103,
   "metadata": {},
   "outputs": [
    {
     "data": {
      "text/plain": [
       "LinearRegression()"
      ]
     },
     "execution_count": 103,
     "metadata": {},
     "output_type": "execute_result"
    }
   ],
   "source": [
    "from sklearn.linear_model import LinearRegression\n",
    "lin_reg = LinearRegression()\n",
    "lin_reg.fit(X1,y1)"
   ]
  },
  {
   "cell_type": "code",
   "execution_count": 104,
   "metadata": {},
   "outputs": [
    {
     "name": "stdout",
     "output_type": "stream",
     "text": [
      "(41, 1)\n",
      "(41, 1)\n"
     ]
    }
   ],
   "source": [
    "# Making predictions for years 2022 till 2040\n",
    "linear_predict = np.array([])\n",
    "years = np.array([[i] for i in range(2021, 2041, 1)])\n",
    "X1_linear = np.concatenate((X1,years))\n",
    "y1_linear = np.copy(y1)\n",
    "for i in range(2021, 2041, 1):\n",
    "   y1_linear = np.concatenate((y1_linear,lin_reg.predict([[i]])))\n",
    "\n",
    "print(X1_linear.shape)\n",
    "print(y1_linear.shape)"
   ]
  },
  {
   "cell_type": "code",
   "execution_count": 105,
   "metadata": {},
   "outputs": [
    {
     "data": {
      "image/png": "[encoded data removed]",
      "text/plain": [
       "<Figure size 432x288 with 1 Axes>"
      ]
     },
     "metadata": {
      "needs_background": "light"
     },
     "output_type": "display_data"
    }
   ],
   "source": [
    "plt.scatter(X1_linear,y1_linear, color='red')\n",
    "plt.plot(X1_linear, lin_reg.predict(X1_linear),color='blue')\n",
    "plt.title(\"Wind Consumption (Linear)\")\n",
    "plt.xlabel('Year')\n",
    "plt.ylabel('Consumption (EJ)')\n",
    "plt.show()"
   ]
  },
  {
   "cell_type": "code",
   "execution_count": 106,
   "metadata": {},
   "outputs": [
    {
     "data": {
      "text/plain": [
       "LinearRegression()"
      ]
     },
     "execution_count": 106,
     "metadata": {},
     "output_type": "execute_result"
    }
   ],
   "source": [
    "from sklearn.preprocessing import PolynomialFeatures\n",
    "poly_reg = PolynomialFeatures(degree=3)\n",
    "X1_poly = poly_reg.fit_transform(X1)\n",
    "lin_reg2 = LinearRegression()\n",
    "lin_reg2.fit(X1_poly,y1)"
   ]
  },
  {
   "cell_type": "code",
   "execution_count": 107,
   "metadata": {},
   "outputs": [
    {
     "name": "stdout",
     "output_type": "stream",
     "text": [
      "(41, 1)\n",
      "(41, 1)\n"
     ]
    }
   ],
   "source": [
    "# Making predictions for years 2021 till 2040\n",
    "poly_predict = np.array([])\n",
    "years = np.array([[i] for i in range(2021, 2041, 1)])\n",
    "X1_poly = np.concatenate((X1,years))\n",
    "y1_poly = np.copy(y1)\n",
    "for i in range(2021, 2041, 1):\n",
    "   y1_poly = np.concatenate((y1_poly,lin_reg2.predict(poly_reg.fit_transform([[i]]))))\n",
    "\n",
    "print(X1_poly.shape)\n",
    "print(y1_poly.shape)"
   ]
  },
  {
   "cell_type": "code",
   "execution_count": 108,
   "metadata": {},
   "outputs": [
    {
     "data": {
      "image/png": "[encoded data removed]",
      "text/plain": [
       "<Figure size 432x288 with 1 Axes>"
      ]
     },
     "metadata": {
      "needs_background": "light"
     },
     "output_type": "display_data"
    }
   ],
   "source": [
    "X1_grid = np.arange(min(X1_poly),max(X1_poly),0.1)\n",
    "X1_grid = X1_grid.reshape(len(X1_grid),1) \n",
    "plt.scatter(X1_poly,y1_poly, color='red') \n",
    "\n",
    "plt.plot(X1_grid, lin_reg2.predict(poly_reg.fit_transform(X1_grid)),color='blue') \n",
    "\n",
    "plt.title(\"Wind Capacity (Polynomial)\")\n",
    "plt.xlabel('Year')\n",
    "plt.ylabel('Capacity (MW)')\n",
    "plt.show()"
   ]
  }
 ],
 "metadata": {
  "interpreter": {
   "hash": "c446eef832ec964573dc49f36fd16bdbed40cbfbefbf557bc2dc78d9e7968689"
  },
  "kernelspec": {
   "display_name": "Python 3.9.7 32-bit",
   "language": "python",
   "name": "python3"
  },
  "language_info": {
   "codemirror_mode": {
    "name": "ipython",
    "version": 3
   },
   "file_extension": ".py",
   "mimetype": "text/x-python",
   "name": "python",
   "nbconvert_exporter": "python",
   "pygments_lexer": "ipython3",
   "version": "3.9.7"
  },
  "orig_nbformat": 4
 },
 "nbformat": 4,
 "nbformat_minor": 2
}
