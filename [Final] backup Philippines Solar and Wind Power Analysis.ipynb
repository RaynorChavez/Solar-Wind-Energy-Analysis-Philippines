{
 "cells": [
  {
   "cell_type": "markdown",
   "id": "80430165",
   "metadata": {},
   "source": [
    "## Section 1\n",
    "Sub-question: Are current solar and wind power plants in the country being predominantly built in areas of high solar and wind power potential?\n",
    "\n",
    "1. Heatmap of Ph Regions according to Solar Potential per administrative boundary up to Barangay Level\n",
    "2. Overlay the locations of wind and solar power plants in the country\n",
    "3. Create histogram of # powerplants per band of wind potential per sqm"
   ]
  },
  {
   "cell_type": "markdown",
   "id": "5feab933",
   "metadata": {},
   "source": [
    "#### 1. Heatmap of Ph Regions according to Solar Potential per administrative boundary up to Barangay Level"
   ]
  },
  {
   "cell_type": "markdown",
   "id": "5833b04c",
   "metadata": {},
   "source": [
    "Solar Potential"
   ]
  },
  {
   "cell_type": "code",
   "execution_count": 7,
   "id": "d0b55f9b",
   "metadata": {},
   "outputs": [],
   "source": [
    "import pandas as pd\n",
    "import matplotlib.pyplot as plt\n",
    "import geopandas as gpd\n",
    "import xlsxwriter\n",
    "from shapely.geometry import Point, Polygon\n",
    "import seaborn as sns\n",
    "from mpl_toolkits.mplot3d import Axes3D\n",
    "import numpy as np\n",
    "from sklearn.neighbors import KNeighborsRegressor\n",
    "from sklearn.metrics import mean_squared_error\n",
    "from sklearn.model_selection import GridSearchCV\n",
    "from math import sqrt"
   ]
  },
  {
   "cell_type": "code",
   "execution_count": 8,
   "id": "6f562f4c",
   "metadata": {},
   "outputs": [],
   "source": [
    "\n",
    "# taken from https://data.humdata.org/dataset/cod-ab-phl\n",
    "fp = \".\\Data\\Shapefiles\\Philippines\\phl_admbnda_adm2_psa_namria_20200529.shp\"\n",
    "map_df = gpd.read_file(fp)\n",
    "map_df.columns\n",
    "map_df = map_df[['ADM2_EN', 'geometry']]\n"
   ]
  },
  {
   "cell_type": "code",
   "execution_count": 9,
   "id": "7abf9739",
   "metadata": {},
   "outputs": [
    {
     "name": "stderr",
     "output_type": "stream",
     "text": [
      "C:\\Users\\rayno\\AppData\\Local\\Temp\\ipykernel_22120\\3886505064.py:3: DtypeWarning: Columns (10) have mixed types. Specify dtype option on import or set low_memory=False.\n",
      "  powerplants = pd.read_csv(powerplantsfp)\n",
      "C:\\Users\\rayno\\AppData\\Local\\Temp\\ipykernel_22120\\3886505064.py:5: SettingWithCopyWarning: \n",
      "A value is trying to be set on a copy of a slice from a DataFrame.\n",
      "Try using .loc[row_indexer,col_indexer] = value instead\n",
      "\n",
      "See the caveats in the documentation: https://pandas.pydata.org/pandas-docs/stable/user_guide/indexing.html#returning-a-view-versus-a-copy\n",
      "  powerplants.capacity_mw = pd.to_numeric(powerplants.capacity_mw, errors='coerce')\n",
      "c:\\Program Files\\Python310\\lib\\site-packages\\pyproj\\crs\\crs.py:130: FutureWarning: '+init=<authority>:<code>' syntax is deprecated. '<authority>:<code>' is the preferred initialization method. When making the change, be mindful of axis order changes: https://pyproj4.github.io/pyproj/stable/gotchas.html#axis-order-changes-in-proj-6\n",
      "  in_crs_string = _prepare_from_proj_string(in_crs_string)\n",
      "c:\\Program Files\\Python310\\lib\\site-packages\\pyproj\\crs\\crs.py:130: FutureWarning: '+init=<authority>:<code>' syntax is deprecated. '<authority>:<code>' is the preferred initialization method. When making the change, be mindful of axis order changes: https://pyproj4.github.io/pyproj/stable/gotchas.html#axis-order-changes-in-proj-6\n",
      "  in_crs_string = _prepare_from_proj_string(in_crs_string)\n"
     ]
    }
   ],
   "source": [
    "# PowerPlants\n",
    "powerplantsfp = '.\\Data\\PowerPlants\\global_power_plant_database.csv'\n",
    "powerplants = pd.read_csv(powerplantsfp)\n",
    "powerplants = powerplants[powerplants.country_long == 'Philippines']\n",
    "powerplants.capacity_mw = pd.to_numeric(powerplants.capacity_mw, errors='coerce')\n",
    "\n",
    "crs = {'init':'epsg:4326'}\n",
    "\n",
    "solar_powerplants = powerplants[powerplants.primary_fuel == 'Solar']\n",
    "solargeometry=[Point(xy) for xy in zip(solar_powerplants[\"longitude\"], solar_powerplants[\"latitude\"])]\n",
    "geodata_solar=gpd.GeoDataFrame(solar_powerplants,crs=crs, geometry=solargeometry)\n",
    "\n",
    "wind_powerplants = powerplants[powerplants.primary_fuel == 'Wind']\n",
    "windgeometry=[Point(xy) for xy in zip(wind_powerplants[\"longitude\"], wind_powerplants[\"latitude\"])]\n",
    "geodata_wind=gpd.GeoDataFrame(wind_powerplants,crs=crs, geometry=windgeometry)"
   ]
  },
  {
   "cell_type": "code",
   "execution_count": 17,
   "id": "19a52833",
   "metadata": {},
   "outputs": [
    {
     "data": {
      "text/plain": [
       "<AxesSubplot:title={'center':'Solar Power Plants in the Philippines'}, ylabel='Average Specific Photovoltaic Output'>"
      ]
     },
     "execution_count": 17,
     "metadata": {},
     "output_type": "execute_result"
    }
   ],
   "source": [
    "\n",
    "# create figure and axes for Matplotlib\n",
    "fig, (ax1,ax2) = plt.subplots(1,2, figsize=(20, 20))\n",
    "\n",
    "# Data for Wind Potential Heatmap\n",
    "datafp = '.\\Data\\WindPotential\\Philippine_regions_windpotential.csv'\n",
    "wind_potential_data = gpd.read_file(datafp)\n",
    "wind_potential_data = wind_potential_data[[\"ADM2_EN\", \"mean_power_density\"]]\n",
    "wind_potential_data.mean_power_density = pd.to_numeric(wind_potential_data.mean_power_density, errors='coerce')\n",
    "\n",
    "merged_wind = map_df.set_index(\"ADM2_EN\").join(wind_potential_data.set_index(\"ADM2_EN\"))\n",
    "variable_wind = \"mean_power_density\"\n",
    "\n",
    "# Data for Solar Potential Heatmap\n",
    "datafp = '.\\Data\\SolarPotential\\Philippine_regions_pvpotential.csv'\n",
    "solar_potential_data = gpd.read_file(datafp)\n",
    "solar_potential_data = solar_potential_data[[\"ADM2_EN\", \"avg_specific_pv_output\"]]\n",
    "solar_potential_data.avg_specific_pv_output = pd.to_numeric(solar_potential_data.avg_specific_pv_output, errors='coerce')\n",
    "\n",
    "merged_solar = map_df.set_index(\"ADM2_EN\").join(solar_potential_data.set_index(\"ADM2_EN\"))\n",
    "variable_solar = \"avg_specific_pv_output\"\n",
    "\n",
    "# Modifying Axes\n",
    "#ax1.axis(\"off\")\n",
    "ax1.set_title(\"Wind Power Plants in the Philippines\", fontdict = {\"fontsize\": \"25\", \"fontweight\":\"3\"})\n",
    "ax1.tick_params(labelsize=10)\n",
    "ax1.figure.axes[1].tick_params(labelsize=10)\n",
    "ax1.yaxis.set_label_position('right')\n",
    "ax1.set_ylabel(\"Mean Powe Densite\")\n",
    "ax1.annotate(\"Source: Global Wind Map, 2022\",xy=(0, .0), xycoords=\"figure fraction\", horizontalalignment=\"left\", verticalalignment=\"top\", fontsize=12, color=\"#555555\")\n",
    "\n",
    "#ax2.axis(\"off\")\n",
    "ax2.set_title(\"Solar Power Plants in the Philippines\", fontdict = {\"fontsize\": \"25\", \"fontweight\":\"3\"})\n",
    "ax2.figure.axes[1].tick_params(labelsize=10)\n",
    "ax2.yaxis.set_label_position('right')\n",
    "ax2.set_ylabel(\"Average Specific Photovoltaic Output\")\n",
    "ax2.annotate(\"Source: Global Solar Map, 2022\",xy=(0.4, .0), xycoords=\"figure fraction\", horizontalalignment=\"left\", verticalalignment=\"top\", fontsize=12, color=\"#555555\")\n",
    "\n",
    "\n",
    "# Plotting\n",
    "merged_wind.plot(column=variable_wind, cmap=\"GnBu\", linewidth=0.8, ax=ax1, edgecolor=\"0.8\", legend=True)\n",
    "geodata_wind.plot(ax=ax1, color='yellow', markersize=20)\n",
    "merged_solar.plot(column=variable_solar, cmap=\"YlOrBr\", linewidth=0.8, ax=ax2, edgecolor=\"0.8\", legend=True)\n",
    "geodata_solar.plot(ax=ax2, color='blue', markersize=20)\n"
   ]
  },
  {
   "cell_type": "markdown",
   "id": "47565482",
   "metadata": {},
   "source": [
    "A majority of solar powerplants in the Philippines have a capacity of less than 60 MW. ----Explain the Three Graphs----- -------Implement Binning-----"
   ]
  },
  {
   "cell_type": "code",
   "execution_count": 11,
   "id": "690035c3",
   "metadata": {},
   "outputs": [
    {
     "name": "stderr",
     "output_type": "stream",
     "text": [
      "C:\\Users\\rayno\\AppData\\Local\\Temp\\ipykernel_22120\\4073587139.py:6: SettingWithCopyWarning: \n",
      "A value is trying to be set on a copy of a slice from a DataFrame\n",
      "\n",
      "See the caveats in the documentation: https://pandas.pydata.org/pandas-docs/stable/user_guide/indexing.html#returning-a-view-versus-a-copy\n",
      "  geodata_solar[variable_solar][index] = merged_solar.loc[a.index.array[0]][variable_solar]\n",
      "C:\\Users\\rayno\\AppData\\Local\\Temp\\ipykernel_22120\\4073587139.py:25: SettingWithCopyWarning: \n",
      "A value is trying to be set on a copy of a slice from a DataFrame\n",
      "\n",
      "See the caveats in the documentation: https://pandas.pydata.org/pandas-docs/stable/user_guide/indexing.html#returning-a-view-versus-a-copy\n",
      "  geodata_wind[variable_wind][index] = merged_wind.loc[a.index.array[0]][variable_wind]\n"
     ]
    },
    {
     "data": {
      "text/plain": [
       "Text(0.5, 0, 'Mean Power Density')"
      ]
     },
     "execution_count": 11,
     "metadata": {},
     "output_type": "execute_result"
    },
    {
     "data": {
      "image/png": "[encoded data removed]",
      "text/plain": [
       "<Figure size 1440x864 with 6 Axes>"
      ]
     },
     "metadata": {
      "needs_background": "light"
     },
     "output_type": "display_data"
    }
   ],
   "source": [
    "#Solar Powerplants analyses\n",
    "geodata_solar[variable_solar] = None\n",
    "for index, entry in geodata_solar.iterrows():\n",
    "    a = merged_solar.geometry.contains(entry['geometry'])\n",
    "    a = a[a == True]\n",
    "    geodata_solar[variable_solar][index] = merged_solar.loc[a.index.array[0]][variable_solar]\n",
    "\n",
    "fig, ((h1,h2,h3), (h4,h5,h6)) = plt.subplots(2,3, figsize=(20, 12))\n",
    "sns.histplot(x='capacity_mw', data=powerplants, ax=h1)\n",
    "h1.set_title(\"Solar Power Plants By Capacity\")\n",
    "h1.set_xlabel(\"Plant Capacity (MW)\")\n",
    "sns.histplot(x=variable_solar, data=geodata_solar,y=\"capacity_mw\",  bins=8, ax=h2)\n",
    "h2.set_title(\"Plant Capacity vs Avg Specific Output in the Province\")\n",
    "h2.set_xlabel(\"Average Specific Photovoltaic Output\")\n",
    "h2.set_ylabel(\"Plant Capacity (MW)\")\n",
    "sns.histplot(x=variable_solar, data=geodata_solar, weights='capacity_mw', bins=8, ax=h3)\n",
    "h3.set_title(\"Distribution of Power Plants weighted by Capacity\")\n",
    "h3.set_xlabel(\"Average Specific Photovoltaic Output\")\n",
    "\n",
    "#Wind Powerplants analyses\n",
    "geodata_wind[variable_wind] = None\n",
    "for index, entry in geodata_wind.iterrows():\n",
    "    a = merged_wind.geometry.contains(entry['geometry'])\n",
    "    a = a[a == True]\n",
    "    geodata_wind[variable_wind][index] = merged_wind.loc[a.index.array[0]][variable_wind]\n",
    "\n",
    "sns.histplot(x='capacity_mw', data=geodata_wind, ax=h4)\n",
    "h4.set_title(\"Wind Power Plants By Capacity\")\n",
    "h4.set_xlabel(\"Plant Capacity (MW)\")\n",
    "sns.histplot(x=variable_wind, data=geodata_wind, y=\"capacity_mw\",  bins=8, ax=h5)\n",
    "h5.set_title(\"Plant Capacity vs Mean Power Density in the Province\")\n",
    "h5.set_xlabel(\"Mean Power Density\")\n",
    "h5.set_ylabel(\"Plant Capacity (MW)\")\n",
    "sns.histplot(x=variable_wind,data=geodata_wind, weights='capacity_mw', bins=8, ax=h6)\n",
    "h6.set_title(\"Distribution of Power Plants weighted by Capacity\")\n",
    "h6.set_xlabel(\"Mean Power Density\")\n"
   ]
  },
  {
   "cell_type": "markdown",
   "id": "e1e365e2",
   "metadata": {},
   "source": [
    "## Section 2\n",
    "\n",
    "Sub-question: How much wind and solar energy is the Philippines projected to generate in the future? Can countries around the world be clustered based on solar and wind capacity, population, and GDP? If so, to which cluster does the Philippines belong, and has its cluster membership changed over time?\n",
    "\n",
    "1. Take time-series data on [GDP, population, solar and wind capacity] per country. \n",
    "2. Perform KNN on the dataset from 1 per year, animate the result. Display in a 3D graph.\n",
    "3. Highlight the Philippines performance and other notable countries in the KNN animation. Analysis.\n",
    "\n",
    "4. Train a sequential NN on (gdp, population, cost of wind/solar power generation, cost of battery storage). \n",
    "5. Predict for coming 30 years based on projected gdp, solar/wind cost, population, and cost of battery storage)\n",
    "\n",
    "6. Repeat 4 and 5 but on a RNN\n"
   ]
  },
  {
   "cell_type": "markdown",
   "id": "80b1c960",
   "metadata": {},
   "source": [
    "#### KNN"
   ]
  },
  {
   "cell_type": "code",
   "execution_count": 12,
   "id": "d3a7e1a3",
   "metadata": {},
   "outputs": [],
   "source": [
    "years = [\"2012\",\"2013\",\"2014\",\"2015\",\"2016\",\"2017\",\"2018\",\"2019\"]\n",
    "years_num = [2012,2013,2014,2015,2016,2017,2018,2019]\n",
    "\n",
    "Installedfp = '.\\Data\\InstalledCapacity\\RECAP_20220519-053554.csv'\n",
    "Installed = pd.read_csv(Installedfp, encoding = \"ISO-8859-1\")\n",
    "\n",
    "Installed[years] = Installed[years].apply(pd.to_numeric, errors='coerce')\n",
    "#Installed = Installed[Installed.Technology == \"Solar\"]\n",
    "\n",
    "Popfp = '.\\Data\\PopAndGDP\\Population.csv'\n",
    "Pop = pd.read_csv(Popfp, encoding = \"utf-8\")\n",
    "Pop[years] = Pop[years].apply(pd.to_numeric, errors='coerce')\n",
    "\n",
    "GDPfp = '.\\Data\\PopAndGDP\\GDPPerCapita.csv'\n",
    "GDP = pd.read_csv(GDPfp, encoding = \"utf-8\")\n",
    "GDP[years] = GDP[years].apply(pd.to_numeric, errors='coerce')\n",
    "\n"
   ]
  },
  {
   "cell_type": "code",
   "execution_count": 13,
   "id": "ef2a95d8",
   "metadata": {},
   "outputs": [],
   "source": [
    "dfs = []\n",
    "for year in years:\n",
    "    df = pd.merge(Installed[[\"Country\",year]], GDP[[\"Country\",year]], on=[\"Country\"], how='inner')\n",
    "    df = pd.merge(df, Pop[[\"Country\",year]], on=[\"Country\"], how='inner')\n",
    "    df = df.drop_duplicates()\n",
    "    df.rename(columns={year+'_x':\"Installed\", year+'_y':\"GDP\", year:\"Pop\"}, inplace=True)\n",
    "    df[[\"Installed\", \"GDP\", \"Pop\"]] = df[[\"Installed\", \"GDP\", \"Pop\"]].apply(pd.to_numeric, errors='coerce')\n",
    "    df = df.dropna(axis=0)\n",
    "    df.Installed = df.Installed/df.Pop\n",
    "    dfs.append(df)\n",
    "    #print(year, df.shape)"
   ]
  },
  {
   "cell_type": "markdown",
   "id": "70886a5b",
   "metadata": {},
   "source": [
    "Philippine Solar Power Capacity MW Installed per year"
   ]
  },
  {
   "cell_type": "markdown",
   "id": "84467ab3",
   "metadata": {},
   "source": [
    "Explanation here"
   ]
  },
  {
   "cell_type": "code",
   "execution_count": 14,
   "id": "76734d2c",
   "metadata": {},
   "outputs": [
    {
     "data": {
      "text/plain": [
       "<matplotlib.legend.Legend at 0x1b311a8d9f0>"
      ]
     },
     "execution_count": 14,
     "metadata": {},
     "output_type": "execute_result"
    },
    {
     "data": {
      "image/png": "[encoded data removed]",
      "text/plain": [
       "<Figure size 432x288 with 1 Axes>"
      ]
     },
     "metadata": {
      "needs_background": "light"
     },
     "output_type": "display_data"
    }
   ],
   "source": [
    "Installed_solar = Installed[Installed.Technology == \"Solar\"]\n",
    "Installed_wind = Installed[Installed.Technology == \"Wind\"]\n",
    "\n",
    "\n",
    "plt.plot(years,np.array(Installed_solar[Installed_solar[\"Country\"] == \"Philippines\"][years].squeeze()), label=\"Solar Capacity\")\n",
    "plt.plot(years,np.array(Installed_wind[Installed_wind[\"Country\"] == \"Philippines\"][years].squeeze()), label=\"Wind Capacity\")\n",
    "plt.title(\"Solar and Wind Capacity in the Philippines\")\n",
    "plt.xlabel(\"Year\")\n",
    "plt.ylabel(\"Power Generation Capacity (MW)\")\n",
    "plt.legend(loc='best')\n",
    "\n"
   ]
  },
  {
   "cell_type": "code",
   "execution_count": 15,
   "id": "467ee77e",
   "metadata": {},
   "outputs": [
    {
     "ename": "NameError",
     "evalue": "name 'LinearRegression' is not defined",
     "output_type": "error",
     "traceback": [
      "\u001b[1;31m---------------------------------------------------------------------------\u001b[0m",
      "\u001b[1;31mNameError\u001b[0m                                 Traceback (most recent call last)",
      "\u001b[1;32md:\\OneDrive - University of the Philippines\\1 - EDUCATION\\SCHOOLWORK\\Undergraduate\\Semester 6\\CS 132\\Machine Project\\Solar-Wind-Energy-Analysis-Philippines\\[Final] Philippines Solar and Wind Power Analysis.ipynb Cell 17'\u001b[0m in \u001b[0;36m<cell line: 10>\u001b[1;34m()\u001b[0m\n\u001b[0;32m      <a href='vscode-notebook-cell:/d%3A/OneDrive%20-%20University%20of%20the%20Philippines/1%20-%20EDUCATION/SCHOOLWORK/Undergraduate/Semester%206/CS%20132/Machine%20Project/Solar-Wind-Energy-Analysis-Philippines/%5BFinal%5D%20Philippines%20Solar%20and%20Wind%20Power%20Analysis.ipynb#ch0000015?line=7'>8</a>\u001b[0m poly_reg \u001b[39m=\u001b[39m PolynomialFeatures(degree\u001b[39m=\u001b[39m\u001b[39m20\u001b[39m)\n\u001b[0;32m      <a href='vscode-notebook-cell:/d%3A/OneDrive%20-%20University%20of%20the%20Philippines/1%20-%20EDUCATION/SCHOOLWORK/Undergraduate/Semester%206/CS%20132/Machine%20Project/Solar-Wind-Energy-Analysis-Philippines/%5BFinal%5D%20Philippines%20Solar%20and%20Wind%20Power%20Analysis.ipynb#ch0000015?line=8'>9</a>\u001b[0m X_poly \u001b[39m=\u001b[39m poly_reg\u001b[39m.\u001b[39mfit_transform(x)\n\u001b[1;32m---> <a href='vscode-notebook-cell:/d%3A/OneDrive%20-%20University%20of%20the%20Philippines/1%20-%20EDUCATION/SCHOOLWORK/Undergraduate/Semester%206/CS%20132/Machine%20Project/Solar-Wind-Energy-Analysis-Philippines/%5BFinal%5D%20Philippines%20Solar%20and%20Wind%20Power%20Analysis.ipynb#ch0000015?line=9'>10</a>\u001b[0m lin_reg2 \u001b[39m=\u001b[39m LinearRegression()\n\u001b[0;32m     <a href='vscode-notebook-cell:/d%3A/OneDrive%20-%20University%20of%20the%20Philippines/1%20-%20EDUCATION/SCHOOLWORK/Undergraduate/Semester%206/CS%20132/Machine%20Project/Solar-Wind-Energy-Analysis-Philippines/%5BFinal%5D%20Philippines%20Solar%20and%20Wind%20Power%20Analysis.ipynb#ch0000015?line=10'>11</a>\u001b[0m lin_reg2\u001b[39m.\u001b[39mfit(X_poly,y)\n\u001b[0;32m     <a href='vscode-notebook-cell:/d%3A/OneDrive%20-%20University%20of%20the%20Philippines/1%20-%20EDUCATION/SCHOOLWORK/Undergraduate/Semester%206/CS%20132/Machine%20Project/Solar-Wind-Energy-Analysis-Philippines/%5BFinal%5D%20Philippines%20Solar%20and%20Wind%20Power%20Analysis.ipynb#ch0000015?line=12'>13</a>\u001b[0m X_grid \u001b[39m=\u001b[39m np\u001b[39m.\u001b[39marange(\u001b[39mmin\u001b[39m(x),\u001b[39mmax\u001b[39m(x),\u001b[39m0.1\u001b[39m)\n",
      "\u001b[1;31mNameError\u001b[0m: name 'LinearRegression' is not defined"
     ]
    }
   ],
   "source": [
    "from sklearn.preprocessing import PolynomialFeatures\n",
    "from sklearn.linear_model import LinearRegression\n",
    "\n",
    "x = np.array(years_num)\n",
    "x = x.reshape(-1,1)\n",
    "y = np.array(Installed[Installed[\"Country\"] == \"Philippines\"][years].squeeze())\n",
    "y = y.reshape(-1,1)\n",
    "\n",
    "poly_reg = PolynomialFeatures(degree=20)\n",
    "X_poly = poly_reg.fit_transform(x)\n",
    "lin_reg2 = LinearRegression()\n",
    "lin_reg2.fit(X_poly,y)\n",
    "\n",
    "X_grid = np.arange(min(x),max(x),0.1)\n",
    "X_grid = X_grid.reshape(len(X_grid),1) \n",
    "plt.scatter(x,y, color='red') \n",
    " \n",
    "plt.plot(X_grid, lin_reg2.predict(poly_reg.fit_transform(X_grid)),color='blue') \n",
    " \n",
    "plt.title(\"Truth or Bluff(Polynomial)\")\n",
    "plt.xlabel('Position level')\n",
    "plt.ylabel('Salary')\n",
    "plt.show()\n"
   ]
  },
  {
   "cell_type": "markdown",
   "id": "81b91eb1",
   "metadata": {},
   "source": [
    "World Solar Power Capacity MW Installed per year"
   ]
  },
  {
   "cell_type": "markdown",
   "id": "5f04fa83",
   "metadata": {},
   "source": [
    "Explanation here"
   ]
  },
  {
   "cell_type": "code",
   "execution_count": null,
   "id": "4d68c5fe",
   "metadata": {},
   "outputs": [],
   "source": [
    "Installed[years] = Installed[years].apply(pd.to_numeric, errors='coerce')\n",
    "for index,row in Installed.iterrows():\n",
    "    if row[\"Country\"] in [\"Philippines\", \"China\", \"USA\", \"UK\", \"India\"]:\n",
    "        plt.plot(years, list(row[years]), label = row[\"Country\"])\n",
    "\n",
    "plt.legend(loc='best')\n",
    "plt.title(\"Installed Solar Generation Capacities of Select Countries\")"
   ]
  },
  {
   "cell_type": "code",
   "execution_count": null,
   "id": "de71f96f",
   "metadata": {},
   "outputs": [],
   "source": [
    "# 2D Plots with KNN\n",
    "sns.set(style = \"darkgrid\")\n",
    "fig, ax = plt.subplots(len(years),2,figsize=(10,50))\n",
    "for i in range(len(years)):\n",
    "    X = dfs[5][['GDP']]\n",
    "    Y = dfs[5][['Installed']]\n",
    "\n",
    "    parameters = {\"n_neighbors\": range(1,50)}\n",
    "    gridsearch = GridSearchCV(KNeighborsRegressor(), parameters)\n",
    "    gridsearch.fit(X, Y)\n",
    "\n",
    "    train_preds_grid = gridsearch.predict(X)\n",
    "    train_mse = mean_squared_error(Y, train_preds_grid)\n",
    "    train_rmse = sqrt(train_mse)\n",
    "\n",
    "    cmap = sns.cubehelix_palette(as_cmap=True)\n",
    "    points = ax[i].scatter(X, Y, c=train_preds_grid, s=50, cmap=cmap)\n",
    "\n",
    "    #ax[i].scatter(dfs[i].GDP, dfs[i].Installed)\n",
    "    #ax[i].scatter(dfs[i][dfs[i][\"Country\"] == \"Philippines\"].GDP, dfs[i][dfs[i][\"Country\"] == \"Philippines\"].Installed, color=\"red\")\n",
    "    ax[i].set_title(years[i])\n",
    "    ax[i].set_xlabel(\"GDP Per Capita\")\n",
    "    ax[i].set_ylabel(\"Installed Solar Capacity Per Capita\")\n",
    "\n",
    "fig.colorbar(points)"
   ]
  }
 ],
 "metadata": {
  "interpreter": {
   "hash": "26de051ba29f2982a8de78e945f0abaf191376122a1563185a90213a26c5da77"
  },
  "kernelspec": {
   "display_name": "Python 3.10.4 64-bit",
   "language": "python",
   "name": "python3"
  },
  "language_info": {
   "codemirror_mode": {
    "name": "ipython",
    "version": 3
   },
   "file_extension": ".py",
   "mimetype": "text/x-python",
   "name": "python",
   "nbconvert_exporter": "python",
   "pygments_lexer": "ipython3",
   "version": "3.10.4"
  }
 },
 "nbformat": 4,
 "nbformat_minor": 5
}
